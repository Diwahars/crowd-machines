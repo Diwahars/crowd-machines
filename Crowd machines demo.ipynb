{
 "cells": [
  {
   "cell_type": "markdown",
   "metadata": {},
   "source": [
    "# Breast cancer data set"
   ]
  },
  {
   "cell_type": "code",
   "execution_count": 1,
   "metadata": {
    "collapsed": false
   },
   "outputs": [],
   "source": [
    "import pandas as pd\n",
    "import numpy as np\n",
    "\n",
    "breast_cancer_data = pd.read_csv('data/breast-cancer-wisconsin.tsv.gz',\n",
    "                                 sep='\\t',\n",
    "                                 compression='gzip')\n",
    "\n",
    "breast_cancer_data = pd.concat([breast_cancer_data.loc[\n",
    "            np.random.choice(breast_cancer_data.loc[breast_cancer_data['class'] == 0].index.values, 212)],\n",
    "                                breast_cancer_data.loc[breast_cancer_data['class'] == 1]])"
   ]
  },
  {
   "cell_type": "markdown",
   "metadata": {},
   "source": [
    "## Class frequencies"
   ]
  },
  {
   "cell_type": "code",
   "execution_count": 2,
   "metadata": {
    "collapsed": false
   },
   "outputs": [
    {
     "data": {
      "text/plain": [
       "Counter({0: 212, 1: 212})"
      ]
     },
     "execution_count": 2,
     "metadata": {},
     "output_type": "execute_result"
    }
   ],
   "source": [
    "from collections import Counter\n",
    "\n",
    "Counter(breast_cancer_data['class'].values)"
   ]
  },
  {
   "cell_type": "markdown",
   "metadata": {},
   "source": [
    "## Compute the cross-validation scores\n",
    "\n",
    "Here, the scores are accuracy on the data set."
   ]
  },
  {
   "cell_type": "code",
   "execution_count": 3,
   "metadata": {
    "collapsed": false
   },
   "outputs": [
    {
     "data": {
      "text/plain": [
       "array([ 1.        ,  0.90909091,  0.95238095,  0.9047619 ,  0.97619048,\n",
       "        0.97619048,  0.95238095,  0.97619048,  0.95238095,  1.        ])"
      ]
     },
     "execution_count": 3,
     "metadata": {},
     "output_type": "execute_result"
    }
   ],
   "source": [
    "from sklearn.cross_validation import cross_val_score\n",
    "from sklearn.ensemble import RandomForestClassifier\n",
    "\n",
    "cross_val_score(RandomForestClassifier(n_estimators=100, n_jobs=-1),\n",
    "                breast_cancer_data.drop('class', axis=1).values,\n",
    "                breast_cancer_data.loc[:, 'class'].values, cv=10)"
   ]
  },
  {
   "cell_type": "markdown",
   "metadata": {},
   "source": [
    "## Visualize the predictions vs. actual status\n",
    "\n",
    "Each dot corresponds to one prediction."
   ]
  },
  {
   "cell_type": "markdown",
   "metadata": {},
   "source": [
    "### Training data"
   ]
  },
  {
   "cell_type": "code",
   "execution_count": 4,
   "metadata": {
    "collapsed": false
   },
   "outputs": [
    {
     "name": "stderr",
     "output_type": "stream",
     "text": [
      "/Users/randal_olson/anaconda/lib/python3.5/site-packages/matplotlib/__init__.py:872: UserWarning: axes.color_cycle is deprecated and replaced with axes.prop_cycle; please use the latter.\n",
      "  warnings.warn(self.msg_depr % (key, alt_key))\n"
     ]
    },
    {
     "data": {
      "text/plain": [
       "''"
      ]
     },
     "execution_count": 4,
     "metadata": {},
     "output_type": "execute_result"
    },
    {
     "data": {
      "image/png": "[encoded data removed]",
      "text/plain": [
       "<matplotlib.figure.Figure at 0x117ea6d68>"
      ]
     },
     "metadata": {},
     "output_type": "display_data"
    }
   ],
   "source": [
    "%matplotlib inline\n",
    "import matplotlib.pyplot as plt\n",
    "import seaborn as sb\n",
    "import pandas as pd\n",
    "from sklearn.ensemble import RandomForestRegressor\n",
    "from sklearn.cross_validation import train_test_split\n",
    "\n",
    "X_train, X_test, y_train, y_test = train_test_split(breast_cancer_data.drop('class', axis=1).values,\n",
    "                                                    breast_cancer_data['class'].values,\n",
    "                                                    stratify=breast_cancer_data['class'].values,\n",
    "                                                    train_size=0.75, test_size=0.25)\n",
    "\n",
    "clf = RandomForestRegressor(n_estimators=100, n_jobs=-1)\n",
    "clf.fit(X_train, y_train)\n",
    "\n",
    "plt.figure(figsize=(12, 7))\n",
    "sb.swarmplot(y_train, clf.predict(X_train))\n",
    "plt.xticks(fontsize=12)\n",
    "plt.yticks(fontsize=12)\n",
    "plt.xlabel('Actual status', fontsize=14)\n",
    "plt.ylabel('Predicted probability', fontsize=14)\n",
    "plt.ylim(-0.01, 1.01)\n",
    ";"
   ]
  },
  {
   "cell_type": "markdown",
   "metadata": {},
   "source": [
    "### Testing data"
   ]
  },
  {
   "cell_type": "code",
   "execution_count": 5,
   "metadata": {
    "collapsed": false
   },
   "outputs": [
    {
     "data": {
      "text/plain": [
       "''"
      ]
     },
     "execution_count": 5,
     "metadata": {},
     "output_type": "execute_result"
    },
    {
     "data": {
      "image/png": "[encoded data removed]",
      "text/plain": [
       "<matplotlib.figure.Figure at 0x118695710>"
      ]
     },
     "metadata": {},
     "output_type": "display_data"
    }
   ],
   "source": [
    "%matplotlib inline\n",
    "import matplotlib.pyplot as plt\n",
    "import seaborn as sb\n",
    "import pandas as pd\n",
    "from sklearn.ensemble import RandomForestRegressor\n",
    "from sklearn.cross_validation import train_test_split\n",
    "\n",
    "X_train, X_test, y_train, y_test = train_test_split(breast_cancer_data.drop('class', axis=1).values,\n",
    "                                                    breast_cancer_data['class'].values,\n",
    "                                                    stratify=breast_cancer_data['class'].values,\n",
    "                                                    train_size=0.75, test_size=0.25)\n",
    "\n",
    "clf = RandomForestRegressor(n_estimators=100, n_jobs=-1)\n",
    "clf.fit(X_train, y_train)\n",
    "\n",
    "plt.figure(figsize=(12, 7))\n",
    "sb.swarmplot(y_test, clf.predict(X_test))\n",
    "plt.xticks(fontsize=12)\n",
    "plt.yticks(fontsize=12)\n",
    "plt.xlabel('Actual status', fontsize=14)\n",
    "plt.ylabel('Predicted probability', fontsize=14)\n",
    "plt.ylim(-0.01, 1.01)\n",
    ";"
   ]
  },
  {
   "cell_type": "markdown",
   "metadata": {},
   "source": [
    "## Crowd machine\n",
    "\n",
    "1. Run random forest with 15 or 20 different terminal node sizes, on the same training data, in each case getting the probability for each subject or instance;\n",
    "2. Use the output from each as a new synthetic feature, which is then input to another (single) random random forest, also run in regression mode; In this case the probability estimates from each synthetic feature will be sort of continuous as they are probability estimates and not just zero or one things;\n",
    "3. Generate some simple plots for the crowd;\n",
    "4. Compare the crowd results to some individual random forest runs, using some two or three terminal node settings."
   ]
  },
  {
   "cell_type": "code",
   "execution_count": 12,
   "metadata": {
    "collapsed": false
   },
   "outputs": [
    {
     "name": "stdout",
     "output_type": "stream",
     "text": [
      "RF w/ mwfl=0.00 CV score: 0.980\n",
      "RF w/ mwfl=0.01 CV score: 0.980\n",
      "RF w/ mwfl=0.02 CV score: 0.980\n",
      "RF w/ mwfl=0.03 CV score: 0.968\n",
      "RF w/ mwfl=0.04 CV score: 0.963\n",
      "RF w/ mwfl=0.05 CV score: 0.957\n",
      "RF w/ mwfl=0.06 CV score: 0.955\n",
      "RF w/ mwfl=0.07 CV score: 0.950\n",
      "RF w/ mwfl=0.08 CV score: 0.950\n",
      "RF w/ mwfl=0.09 CV score: 0.953\n",
      "RF w/ mwfl=0.10 CV score: 0.948\n",
      "RF w/ mwfl=0.11 CV score: 0.948\n",
      "RF w/ mwfl=0.12 CV score: 0.946\n",
      "RF w/ mwfl=0.13 CV score: 0.944\n",
      "RF w/ mwfl=0.14 CV score: 0.948\n",
      "RF w/ mwfl=0.15 CV score: 0.946\n",
      "RF w/ mwfl=0.16 CV score: 0.946\n",
      "RF w/ mwfl=0.17 CV score: 0.944\n",
      "RF w/ mwfl=0.18 CV score: 0.940\n",
      "RF w/ mwfl=0.19 CV score: 0.944\n",
      "RF w/ mwfl=0.20 CV score: 0.944\n",
      "Crowd machine CV score: 0.981\n"
     ]
    }
   ],
   "source": [
    "import pandas as pd\n",
    "import numpy as np\n",
    "from sklearn.pipeline import make_pipeline, make_union\n",
    "from sklearn.ensemble import RandomForestRegressor, RandomForestClassifier, VotingClassifier\n",
    "from sklearn.feature_selection import SelectKBest\n",
    "from sklearn.cross_validation import cross_val_score\n",
    "\n",
    "breast_cancer_data = pd.read_csv('data/breast-cancer-wisconsin.tsv.gz',\n",
    "                                 sep='\\t',\n",
    "                                 compression='gzip')\n",
    "\n",
    "breast_cancer_data = pd.concat([breast_cancer_data.loc[\n",
    "            np.random.choice(breast_cancer_data.loc[breast_cancer_data['class'] == 0].index.values, 212)],\n",
    "                                breast_cancer_data.loc[breast_cancer_data['class'] == 1]])\n",
    "\n",
    "shuffled_indices = breast_cancer_data.index.values\n",
    "np.random.shuffle(shuffled_indices)\n",
    "breast_cancer_data = breast_cancer_data.loc[shuffled_indices]\n",
    "\n",
    "all_features = breast_cancer_data.drop('class', axis=1).values\n",
    "all_classes = breast_cancer_data['class'].values\n",
    "\n",
    "union_ops = [SelectKBest(k='all')]\n",
    "\n",
    "for i, mwfl in enumerate(np.arange(0., 0.21, 0.01)):\n",
    "    union_ops.append(VotingClassifier(estimators=[('rf-mwfl={}'.format(mwfl),\n",
    "                                                   RandomForestRegressor(n_estimators=100,\n",
    "                                                                         n_jobs=-1,\n",
    "                                                                         min_weight_fraction_leaf=mwfl))]))\n",
    "    \n",
    "    clf = RandomForestClassifier(n_estimators=100, n_jobs=-1, min_weight_fraction_leaf=mwfl)\n",
    "    print('RF w/ mwfl={:0.2f} CV score: {:0.3f}'.format(\n",
    "            mwfl,\n",
    "            np.mean(cross_val_score(clf, all_features, all_classes, cv=10))))\n",
    "\n",
    "clf = make_pipeline(make_union(*union_ops), RandomForestClassifier(n_estimators=100, n_jobs=-1))\n",
    "print('Crowd machine CV score: {:0.3f}'.format(np.mean(cross_val_score(clf, all_features, all_classes, cv=10))))"
   ]
  },
  {
   "cell_type": "markdown",
   "metadata": {},
   "source": [
    "# Spambase data set"
   ]
  },
  {
   "cell_type": "code",
   "execution_count": 6,
   "metadata": {
    "collapsed": false
   },
   "outputs": [],
   "source": [
    "import pandas as pd\n",
    "\n",
    "spambase_data = pd.read_csv('http://www.randalolson.com/data/benchmarks/spambase.csv.gz',\n",
    "                            sep='\\t',\n",
    "                            compression='gzip')\n",
    "\n",
    "spambase_data = pd.concat([spambase_data.loc[\n",
    "            np.random.choice(spambase_data.loc[spambase_data['class'] == 0].index.values, 1813)],\n",
    "                                spambase_data.loc[spambase_data['class'] == 1]])"
   ]
  },
  {
   "cell_type": "markdown",
   "metadata": {},
   "source": [
    "## Class frequencies"
   ]
  },
  {
   "cell_type": "code",
   "execution_count": 7,
   "metadata": {
    "collapsed": false
   },
   "outputs": [
    {
     "data": {
      "text/plain": [
       "Counter({0: 1813, 1: 1813})"
      ]
     },
     "execution_count": 7,
     "metadata": {},
     "output_type": "execute_result"
    }
   ],
   "source": [
    "from collections import Counter\n",
    "\n",
    "Counter(spambase_data['class'].values)"
   ]
  },
  {
   "cell_type": "markdown",
   "metadata": {},
   "source": [
    "## Compute the cross-validation scores\n",
    "\n",
    "Here, the scores are accuracy on the data set."
   ]
  },
  {
   "cell_type": "code",
   "execution_count": 8,
   "metadata": {
    "collapsed": false
   },
   "outputs": [
    {
     "data": {
      "text/plain": [
       "array([ 0.95054945,  0.94230769,  0.93681319,  0.95856354,  0.96961326,\n",
       "        0.97513812,  0.9640884 ,  0.96132597,  0.94198895,  0.91160221])"
      ]
     },
     "execution_count": 8,
     "metadata": {},
     "output_type": "execute_result"
    }
   ],
   "source": [
    "from sklearn.cross_validation import cross_val_score\n",
    "from sklearn.ensemble import RandomForestClassifier\n",
    "\n",
    "cross_val_score(RandomForestClassifier(n_estimators=100, n_jobs=-1),\n",
    "                spambase_data.drop('class', axis=1).values,\n",
    "                spambase_data.loc[:, 'class'].values,\n",
    "                cv=10)"
   ]
  },
  {
   "cell_type": "markdown",
   "metadata": {},
   "source": [
    "## Visualize the predictions vs. actual status\n",
    "\n",
    "Each dot corresponds to one prediction."
   ]
  },
  {
   "cell_type": "markdown",
   "metadata": {},
   "source": [
    "### Training data"
   ]
  },
  {
   "cell_type": "code",
   "execution_count": 9,
   "metadata": {
    "collapsed": false
   },
   "outputs": [
    {
     "data": {
      "text/plain": [
       "''"
      ]
     },
     "execution_count": 9,
     "metadata": {},
     "output_type": "execute_result"
    },
    {
     "data": {
      "image/png": "[encoded data removed]",
      "text/plain": [
       "<matplotlib.figure.Figure at 0x119cfca20>"
      ]
     },
     "metadata": {},
     "output_type": "display_data"
    }
   ],
   "source": [
    "%matplotlib inline\n",
    "import matplotlib.pyplot as plt\n",
    "import seaborn as sb\n",
    "import pandas as pd\n",
    "from sklearn.ensemble import RandomForestRegressor\n",
    "from sklearn.cross_validation import train_test_split\n",
    "\n",
    "X_train, X_test, y_train, y_test = train_test_split(spambase_data.drop('class', axis=1).values,\n",
    "                                                    spambase_data['class'].values,\n",
    "                                                    stratify=spambase_data['class'].values,\n",
    "                                                    train_size=0.75, test_size=0.25)\n",
    "\n",
    "clf = RandomForestRegressor(n_estimators=100, n_jobs=-1)\n",
    "clf.fit(X_train, y_train)\n",
    "\n",
    "plt.figure(figsize=(12, 7))\n",
    "sb.boxplot(y_train, clf.predict(X_train))\n",
    "plt.xticks(fontsize=12)\n",
    "plt.yticks(fontsize=12)\n",
    "plt.xlabel('Actual status', fontsize=14)\n",
    "plt.ylabel('Predicted probability', fontsize=14)\n",
    "plt.ylim(-0.01, 1.01)\n",
    ";"
   ]
  },
  {
   "cell_type": "markdown",
   "metadata": {},
   "source": [
    "### Testing data"
   ]
  },
  {
   "cell_type": "code",
   "execution_count": 10,
   "metadata": {
    "collapsed": false
   },
   "outputs": [
    {
     "data": {
      "text/plain": [
       "''"
      ]
     },
     "execution_count": 10,
     "metadata": {},
     "output_type": "execute_result"
    },
    {
     "data": {
      "image/png": "[encoded data removed]",
      "text/plain": [
       "<matplotlib.figure.Figure at 0x119c68160>"
      ]
     },
     "metadata": {},
     "output_type": "display_data"
    }
   ],
   "source": [
    "%matplotlib inline\n",
    "import matplotlib.pyplot as plt\n",
    "import seaborn as sb\n",
    "import pandas as pd\n",
    "from sklearn.ensemble import RandomForestRegressor\n",
    "from sklearn.cross_validation import train_test_split\n",
    "\n",
    "X_train, X_test, y_train, y_test = train_test_split(spambase_data.drop('class', axis=1).values,\n",
    "                                                    spambase_data['class'].values,\n",
    "                                                    stratify=spambase_data['class'].values,\n",
    "                                                    train_size=0.75, test_size=0.25)\n",
    "\n",
    "clf = RandomForestRegressor(n_estimators=100, n_jobs=-1)\n",
    "clf.fit(X_train, y_train)\n",
    "\n",
    "plt.figure(figsize=(12, 7))\n",
    "sb.boxplot(y_test, clf.predict(X_test))\n",
    "plt.xticks(fontsize=12)\n",
    "plt.yticks(fontsize=12)\n",
    "plt.xlabel('Actual status', fontsize=14)\n",
    "plt.ylabel('Predicted probability', fontsize=14)\n",
    "plt.ylim(-0.01, 1.01)\n",
    ";"
   ]
  },
  {
   "cell_type": "markdown",
   "metadata": {},
   "source": [
    "## Crowd machine\n",
    "\n",
    "1. Run random forest with 15 or 20 different terminal node sizes, on the same training data, in each case getting the probability for each subject or instance;\n",
    "2. Use the output from each as a new synthetic feature, which is then input to another (single) random random forest, also run in regression mode; In this case the probability estimates from each synthetic feature will be sort of continuous as they are probability estimates and not just zero or one things;\n",
    "3. Generate some simple plots for the crowd;\n",
    "4. Compare the crowd results to some individual random forest runs, using some two or three terminal node settings."
   ]
  },
  {
   "cell_type": "code",
   "execution_count": 92,
   "metadata": {
    "collapsed": false
   },
   "outputs": [
    {
     "name": "stdout",
     "output_type": "stream",
     "text": [
      "RF w/ mwfl=0.00 CV score: 0.967\n",
      "RF w/ mwfl=0.01 CV score: 0.933\n",
      "RF w/ mwfl=0.02 CV score: 0.923\n",
      "RF w/ mwfl=0.03 CV score: 0.918\n",
      "RF w/ mwfl=0.04 CV score: 0.911\n",
      "RF w/ mwfl=0.05 CV score: 0.907\n",
      "RF w/ mwfl=0.06 CV score: 0.904\n",
      "RF w/ mwfl=0.07 CV score: 0.904\n",
      "RF w/ mwfl=0.08 CV score: 0.898\n",
      "RF w/ mwfl=0.09 CV score: 0.904\n",
      "RF w/ mwfl=0.10 CV score: 0.901\n",
      "RF w/ mwfl=0.11 CV score: 0.896\n",
      "RF w/ mwfl=0.12 CV score: 0.895\n",
      "RF w/ mwfl=0.13 CV score: 0.898\n",
      "RF w/ mwfl=0.14 CV score: 0.891\n",
      "RF w/ mwfl=0.15 CV score: 0.893\n",
      "RF w/ mwfl=0.16 CV score: 0.887\n",
      "RF w/ mwfl=0.17 CV score: 0.887\n",
      "RF w/ mwfl=0.18 CV score: 0.889\n",
      "RF w/ mwfl=0.19 CV score: 0.883\n",
      "RF w/ mwfl=0.20 CV score: 0.875\n",
      "Crowd machine CV score: 0.959\n"
     ]
    }
   ],
   "source": [
    "import pandas as pd\n",
    "import numpy as np\n",
    "from sklearn.pipeline import make_pipeline, make_union\n",
    "from sklearn.ensemble import RandomForestRegressor, RandomForestClassifier, VotingClassifier\n",
    "from sklearn.feature_selection import SelectKBest\n",
    "from sklearn.cross_validation import cross_val_score\n",
    "\n",
    "spambase_data = pd.read_csv('http://www.randalolson.com/data/benchmarks/spambase.csv.gz',\n",
    "                            sep='\\t',\n",
    "                            compression='gzip')\n",
    "\n",
    "spambase_data = pd.concat([spambase_data.loc[\n",
    "            np.random.choice(spambase_data.loc[spambase_data['class'] == 0].index.values, 1813)],\n",
    "                                spambase_data.loc[spambase_data['class'] == 1]])\n",
    "\n",
    "shuffled_indices = spambase_data.index.values\n",
    "np.random.shuffle(shuffled_indices)\n",
    "spambase_data = spambase_data.loc[shuffled_indices]\n",
    "\n",
    "all_features = spambase_data.drop('class', axis=1).values\n",
    "all_classes = spambase_data['class'].values\n",
    "\n",
    "union_ops = [SelectKBest(k='all')]\n",
    "\n",
    "for i, mwfl in enumerate(np.arange(0., 0.21, 0.01)):\n",
    "    union_ops.append(VotingClassifier(estimators=[('rf-mwfl={}'.format(mwfl),\n",
    "                                                   RandomForestRegressor(n_estimators=100,\n",
    "                                                                         n_jobs=-1,\n",
    "                                                                         min_weight_fraction_leaf=mwfl))]))\n",
    "    \n",
    "    clf = RandomForestClassifier(n_estimators=100, n_jobs=-1, min_weight_fraction_leaf=mwfl)\n",
    "    print('RF w/ mwfl={:0.2f} CV score: {:0.3f}'.format(\n",
    "            mwfl,\n",
    "            np.mean(cross_val_score(clf, all_features, all_classes, cv=3))))\n",
    "\n",
    "clf = make_pipeline(make_union(*union_ops), RandomForestClassifier(n_estimators=100, n_jobs=-1))\n",
    "print('Crowd machine CV score: {:0.3f}'.format(np.mean(cross_val_score(clf, all_features, all_classes, cv=3))))"
   ]
  },
  {
   "cell_type": "markdown",
   "metadata": {
    "collapsed": true
   },
   "source": [
    "# GAMETES data sets\n",
    "\n",
    "## Crowd machine\n",
    "\n",
    "1. Run random forest with 15 or 20 different terminal node sizes, on the same training data, in each case getting the probability for each subject or instance;\n",
    "2. Use the output from each as a new synthetic feature, which is then input to another (single) random random forest, also run in regression mode; In this case the probability estimates from each synthetic feature will be sort of continuous as they are probability estimates and not just zero or one things;\n",
    "3. Generate some simple plots for the crowd;\n",
    "4. Compare the crowd results to some individual random forest runs, using some two or three terminal node settings."
   ]
  },
  {
   "cell_type": "code",
   "execution_count": 58,
   "metadata": {
    "collapsed": false
   },
   "outputs": [
    {
     "name": "stdout",
     "output_type": "stream",
     "text": [
      "RF w/ mwfl=0.000 CV score: 0.688\n",
      "RF w/ mwfl=0.005 CV score: 0.694\n",
      "RF w/ mwfl=0.010 CV score: 0.681\n",
      "RF w/ mwfl=0.015 CV score: 0.674\n",
      "RF w/ mwfl=0.020 CV score: 0.683\n",
      "RF w/ mwfl=0.025 CV score: 0.673\n",
      "RF w/ mwfl=0.030 CV score: 0.682\n",
      "RF w/ mwfl=0.035 CV score: 0.653\n",
      "RF w/ mwfl=0.040 CV score: 0.661\n",
      "RF w/ mwfl=0.045 CV score: 0.650\n",
      "RF w/ mwfl=0.050 CV score: 0.652\n",
      "RF w/ mwfl=0.055 CV score: 0.628\n",
      "RF w/ mwfl=0.060 CV score: 0.648\n",
      "RF w/ mwfl=0.065 CV score: 0.633\n",
      "RF w/ mwfl=0.070 CV score: 0.626\n",
      "RF w/ mwfl=0.075 CV score: 0.600\n",
      "RF w/ mwfl=0.080 CV score: 0.645\n",
      "RF w/ mwfl=0.085 CV score: 0.628\n",
      "RF w/ mwfl=0.090 CV score: 0.610\n",
      "RF w/ mwfl=0.095 CV score: 0.620\n",
      "RF w/ mwfl=0.100 CV score: 0.617\n",
      "Crowd machine CV score: 0.709\n"
     ]
    }
   ],
   "source": [
    "import pandas as pd\n",
    "import numpy as np\n",
    "from sklearn.pipeline import make_pipeline, make_union\n",
    "from sklearn.ensemble import RandomForestRegressor, RandomForestClassifier, VotingClassifier\n",
    "from sklearn.feature_selection import SelectKBest\n",
    "from sklearn.cross_validation import cross_val_score\n",
    "\n",
    "gametes_data = pd.read_csv('data/GAMETES_Epistasis_2-Way_20atts_0.4H_EDM-1_1.tsv.gz',\n",
    "                           sep='\\t',\n",
    "                           compression='gzip')\n",
    "\n",
    "shuffled_indices = gametes_data.index.values\n",
    "np.random.shuffle(shuffled_indices)\n",
    "gametes_data = gametes_data.loc[shuffled_indices]\n",
    "\n",
    "all_features = gametes_data.drop('class', axis=1).values\n",
    "all_classes = gametes_data['class'].values\n",
    "\n",
    "union_ops = [SelectKBest(k='all')]\n",
    "\n",
    "for i, mwfl in enumerate(np.arange(0., 0.101, 0.005)):\n",
    "    union_ops.append(VotingClassifier(estimators=[('rf-mwfl={}'.format(mwfl),\n",
    "                                                   RandomForestRegressor(n_estimators=100,\n",
    "                                                                         n_jobs=-1,\n",
    "                                                                         min_weight_fraction_leaf=mwfl))]))\n",
    "\n",
    "    clf = RandomForestClassifier(n_estimators=100, n_jobs=-1, min_weight_fraction_leaf=mwfl)\n",
    "    print('RF w/ mwfl={:0.3f} CV score: {:0.3f}'.format(\n",
    "            mwfl,\n",
    "            np.mean(cross_val_score(clf, all_features, all_classes, cv=10))))\n",
    "\n",
    "clf = make_pipeline(make_union(*union_ops), RandomForestClassifier(n_estimators=100, n_jobs=-1))\n",
    "print('Crowd machine CV score: {:0.3f}'.format(np.mean(cross_val_score(clf, all_features, all_classes, cv=10))))"
   ]
  },
  {
   "cell_type": "code",
   "execution_count": 59,
   "metadata": {
    "collapsed": false
   },
   "outputs": [
    {
     "name": "stdout",
     "output_type": "stream",
     "text": [
      "RF w/ mwfl=0.000 CV score: 0.568\n",
      "RF w/ mwfl=0.005 CV score: 0.566\n",
      "RF w/ mwfl=0.010 CV score: 0.574\n",
      "RF w/ mwfl=0.015 CV score: 0.571\n",
      "RF w/ mwfl=0.020 CV score: 0.564\n",
      "RF w/ mwfl=0.025 CV score: 0.557\n",
      "RF w/ mwfl=0.030 CV score: 0.581\n",
      "RF w/ mwfl=0.035 CV score: 0.566\n",
      "RF w/ mwfl=0.040 CV score: 0.548\n",
      "RF w/ mwfl=0.045 CV score: 0.554\n",
      "RF w/ mwfl=0.050 CV score: 0.565\n",
      "RF w/ mwfl=0.055 CV score: 0.559\n",
      "RF w/ mwfl=0.060 CV score: 0.546\n",
      "RF w/ mwfl=0.065 CV score: 0.547\n",
      "RF w/ mwfl=0.070 CV score: 0.551\n",
      "RF w/ mwfl=0.075 CV score: 0.530\n",
      "RF w/ mwfl=0.080 CV score: 0.538\n",
      "RF w/ mwfl=0.085 CV score: 0.551\n",
      "RF w/ mwfl=0.090 CV score: 0.537\n",
      "RF w/ mwfl=0.095 CV score: 0.541\n",
      "RF w/ mwfl=0.100 CV score: 0.539\n",
      "Crowd machine CV score: 0.590\n"
     ]
    }
   ],
   "source": [
    "import pandas as pd\n",
    "import numpy as np\n",
    "from sklearn.pipeline import make_pipeline, make_union\n",
    "from sklearn.ensemble import RandomForestRegressor, RandomForestClassifier, VotingClassifier\n",
    "from sklearn.feature_selection import SelectKBest\n",
    "from sklearn.cross_validation import cross_val_score\n",
    "\n",
    "gametes_data = pd.read_csv('data/GAMETES_Epistasis_2-Way_20atts_0.1H_EDM-1_1.tsv.gz',\n",
    "                           sep='\\t',\n",
    "                           compression='gzip')\n",
    "\n",
    "shuffled_indices = gametes_data.index.values\n",
    "np.random.shuffle(shuffled_indices)\n",
    "gametes_data = gametes_data.loc[shuffled_indices]\n",
    "\n",
    "all_features = gametes_data.drop('class', axis=1).values\n",
    "all_classes = gametes_data['class'].values\n",
    "\n",
    "union_ops = [SelectKBest(k='all')]\n",
    "\n",
    "for i, mwfl in enumerate(np.arange(0., 0.101, 0.005)):\n",
    "    union_ops.append(VotingClassifier(estimators=[('rf-mwfl={}'.format(mwfl),\n",
    "                                                   RandomForestRegressor(n_estimators=100,\n",
    "                                                                         n_jobs=-1,\n",
    "                                                                         min_weight_fraction_leaf=mwfl))]))\n",
    "    \n",
    "    clf = RandomForestClassifier(n_estimators=100, n_jobs=-1, min_weight_fraction_leaf=mwfl)\n",
    "    print('RF w/ mwfl={:0.3f} CV score: {:0.3f}'.format(\n",
    "            mwfl,\n",
    "            np.mean(cross_val_score(clf, all_features, all_classes, cv=10))))\n",
    "\n",
    "clf = make_pipeline(make_union(*union_ops), RandomForestClassifier(n_estimators=100, n_jobs=-1))\n",
    "print('Crowd machine CV score: {:0.3f}'.format(np.mean(cross_val_score(clf, all_features, all_classes, cv=10))))"
   ]
  },
  {
   "cell_type": "code",
   "execution_count": 60,
   "metadata": {
    "collapsed": false
   },
   "outputs": [
    {
     "name": "stdout",
     "output_type": "stream",
     "text": [
      "RF w/ mwfl=0.000 CV score: 0.507\n",
      "RF w/ mwfl=0.005 CV score: 0.490\n",
      "RF w/ mwfl=0.010 CV score: 0.483\n",
      "RF w/ mwfl=0.015 CV score: 0.505\n",
      "RF w/ mwfl=0.020 CV score: 0.483\n",
      "RF w/ mwfl=0.025 CV score: 0.497\n",
      "RF w/ mwfl=0.030 CV score: 0.484\n",
      "RF w/ mwfl=0.035 CV score: 0.477\n",
      "RF w/ mwfl=0.040 CV score: 0.488\n",
      "RF w/ mwfl=0.045 CV score: 0.507\n",
      "RF w/ mwfl=0.050 CV score: 0.472\n",
      "RF w/ mwfl=0.055 CV score: 0.483\n",
      "RF w/ mwfl=0.060 CV score: 0.487\n",
      "RF w/ mwfl=0.065 CV score: 0.496\n",
      "RF w/ mwfl=0.070 CV score: 0.466\n",
      "RF w/ mwfl=0.075 CV score: 0.477\n",
      "RF w/ mwfl=0.080 CV score: 0.492\n",
      "RF w/ mwfl=0.085 CV score: 0.490\n",
      "RF w/ mwfl=0.090 CV score: 0.466\n",
      "RF w/ mwfl=0.095 CV score: 0.469\n",
      "RF w/ mwfl=0.100 CV score: 0.459\n",
      "Crowd machine CV score: 0.486\n"
     ]
    }
   ],
   "source": [
    "import pandas as pd\n",
    "import numpy as np\n",
    "from sklearn.pipeline import make_pipeline, make_union\n",
    "from sklearn.ensemble import RandomForestRegressor, RandomForestClassifier, VotingClassifier\n",
    "from sklearn.feature_selection import SelectKBest\n",
    "from sklearn.cross_validation import cross_val_score\n",
    "\n",
    "gametes_data = pd.read_csv('data/GAMETES_Epistasis_2-Way_1000atts_0.4H_EDM-1_EDM-1_1.tsv.gz',\n",
    "                           sep='\\t',\n",
    "                           compression='gzip')\n",
    "\n",
    "shuffled_indices = gametes_data.index.values\n",
    "np.random.shuffle(shuffled_indices)\n",
    "gametes_data = gametes_data.loc[shuffled_indices]\n",
    "\n",
    "all_features = gametes_data.drop('class', axis=1).values\n",
    "all_classes = gametes_data['class'].values\n",
    "\n",
    "union_ops = [SelectKBest(k='all')]\n",
    "\n",
    "for i, mwfl in enumerate(np.arange(0., 0.101, 0.005)):\n",
    "    union_ops.append(VotingClassifier(estimators=[('rf-mwfl={}'.format(mwfl),\n",
    "                                                   RandomForestRegressor(n_estimators=100,\n",
    "                                                                         n_jobs=-1,\n",
    "                                                                         min_weight_fraction_leaf=mwfl))]))\n",
    "    \n",
    "    clf = RandomForestClassifier(n_estimators=100, n_jobs=-1, min_weight_fraction_leaf=mwfl)\n",
    "    print('RF w/ mwfl={:0.3f} CV score: {:0.3f}'.format(\n",
    "            mwfl,\n",
    "            np.mean(cross_val_score(clf, all_features, all_classes, cv=10))))\n",
    "\n",
    "clf = make_pipeline(make_union(*union_ops), RandomForestClassifier(n_estimators=100, n_jobs=-1))\n",
    "print('Crowd machine CV score: {:0.3f}'.format(np.mean(cross_val_score(clf, all_features, all_classes, cv=10))))"
   ]
  },
  {
   "cell_type": "code",
   "execution_count": 61,
   "metadata": {
    "collapsed": false
   },
   "outputs": [
    {
     "name": "stdout",
     "output_type": "stream",
     "text": [
      "RF w/ mwfl=0.000 CV score: 0.561\n",
      "RF w/ mwfl=0.005 CV score: 0.542\n",
      "RF w/ mwfl=0.010 CV score: 0.531\n",
      "RF w/ mwfl=0.015 CV score: 0.533\n",
      "RF w/ mwfl=0.020 CV score: 0.537\n",
      "RF w/ mwfl=0.025 CV score: 0.537\n",
      "RF w/ mwfl=0.030 CV score: 0.532\n",
      "RF w/ mwfl=0.035 CV score: 0.519\n",
      "RF w/ mwfl=0.040 CV score: 0.523\n",
      "RF w/ mwfl=0.045 CV score: 0.527\n",
      "RF w/ mwfl=0.050 CV score: 0.529\n",
      "RF w/ mwfl=0.055 CV score: 0.526\n",
      "RF w/ mwfl=0.060 CV score: 0.517\n",
      "RF w/ mwfl=0.065 CV score: 0.517\n",
      "RF w/ mwfl=0.070 CV score: 0.527\n",
      "RF w/ mwfl=0.075 CV score: 0.516\n",
      "RF w/ mwfl=0.080 CV score: 0.523\n",
      "RF w/ mwfl=0.085 CV score: 0.519\n",
      "RF w/ mwfl=0.090 CV score: 0.521\n",
      "RF w/ mwfl=0.095 CV score: 0.507\n",
      "RF w/ mwfl=0.100 CV score: 0.516\n",
      "Crowd machine CV score: 0.593\n"
     ]
    }
   ],
   "source": [
    "import pandas as pd\n",
    "import numpy as np\n",
    "from sklearn.pipeline import make_pipeline, make_union\n",
    "from sklearn.ensemble import RandomForestRegressor, RandomForestClassifier, VotingClassifier\n",
    "from sklearn.feature_selection import SelectKBest\n",
    "from sklearn.cross_validation import cross_val_score\n",
    "\n",
    "gametes_data = pd.read_csv('data/GAMETES_Epistasis_3-Way_20atts_0.2H_EDM-1_1.tsv.gz',\n",
    "                           sep='\\t',\n",
    "                           compression='gzip')\n",
    "\n",
    "shuffled_indices = gametes_data.index.values\n",
    "np.random.shuffle(shuffled_indices)\n",
    "gametes_data = gametes_data.loc[shuffled_indices]\n",
    "\n",
    "all_features = gametes_data.drop('class', axis=1).values\n",
    "all_classes = gametes_data['class'].values\n",
    "\n",
    "union_ops = [SelectKBest(k='all')]\n",
    "\n",
    "for i, mwfl in enumerate(np.arange(0., 0.101, 0.005)):\n",
    "    union_ops.append(VotingClassifier(estimators=[('rf-mwfl={}'.format(mwfl),\n",
    "                                                   RandomForestRegressor(n_estimators=100,\n",
    "                                                                         n_jobs=-1,\n",
    "                                                                         min_weight_fraction_leaf=mwfl))]))\n",
    "    \n",
    "    clf = RandomForestClassifier(n_estimators=100, n_jobs=-1, min_weight_fraction_leaf=mwfl)\n",
    "    print('RF w/ mwfl={:0.3f} CV score: {:0.3f}'.format(\n",
    "            mwfl,\n",
    "            np.mean(cross_val_score(clf, all_features, all_classes, cv=10))))\n",
    "\n",
    "clf = make_pipeline(make_union(*union_ops), RandomForestClassifier(n_estimators=100, n_jobs=-1))\n",
    "print('Crowd machine CV score: {:0.3f}'.format(np.mean(cross_val_score(clf, all_features, all_classes, cv=10))))"
   ]
  },
  {
   "cell_type": "code",
   "execution_count": null,
   "metadata": {
    "collapsed": true
   },
   "outputs": [],
   "source": []
  }
 ],
 "metadata": {
  "kernelspec": {
   "display_name": "Python 3",
   "language": "python",
   "name": "python3"
  },
  "language_info": {
   "codemirror_mode": {
    "name": "ipython",
    "version": 3
   },
   "file_extension": ".py",
   "mimetype": "text/x-python",
   "name": "python",
   "nbconvert_exporter": "python",
   "pygments_lexer": "ipython3",
   "version": "3.5.1"
  }
 },
 "nbformat": 4,
 "nbformat_minor": 0
}
